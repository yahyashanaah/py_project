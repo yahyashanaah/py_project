{
 "cells": [
  {
   "cell_type": "code",
   "execution_count": 9,
   "metadata": {},
   "outputs": [],
   "source": [
    "import sqlite3\n",
    "from flask import Flask, request, jsonify\n",
    "from functools import wraps\n",
    "\n",
    "conn = sqlite3.connect('example.db')\n",
    "cursor = conn.cursor()"
   ]
  },
  {
   "cell_type": "code",
   "execution_count": 16,
   "metadata": {},
   "outputs": [],
   "source": [
    "def get_db_connection():\n",
    "    conn = sqlite3.connect('example.db')\n",
    "    conn.row_factory = sqlite3.Row  # Access rows by name\n",
    "    return conn"
   ]
  },
  {
   "cell_type": "code",
   "execution_count": 17,
   "metadata": {},
   "outputs": [],
   "source": [
    "def create_table():\n",
    "    conn = get_db_connection()\n",
    "    conn.execute('''CREATE TABLE IF NOT EXISTS users (\n",
    "                        id INTEGER PRIMARY KEY AUTOINCREMENT,\n",
    "                        name TEXT NOT NULL,\n",
    "                        age INTEGER NOT NULL,\n",
    "                        email TEXT UNIQUE NOT NULL)''')\n",
    "    conn.commit()\n",
    "    conn.close()\n",
    "\n",
    "# Run the function to create the table (once per notebook session)\n",
    "create_table()\n"
   ]
  },
  {
   "cell_type": "code",
   "execution_count": null,
   "metadata": {},
   "outputs": [],
   "source": [
    "def insert_user(name, age, email):\n",
    "    conn = get_db_connection()\n",
    "    conn.execute(\"INSERT INTO users (name, age, email) VALUES (?, ?, ?)\", (name, age, email))\n",
    "    conn.commit()\n",
    "    conn.close()\n",
    "\n",
    "# Example: Insert a new user\n",
    "insert_user(\"Alice\", 30, \"alice@example.com\")\n"
   ]
  },
  {
   "cell_type": "code",
   "execution_count": 18,
   "metadata": {},
   "outputs": [],
   "source": [
    "def get_users():\n",
    "    conn = get_db_connection()\n",
    "    users = conn.execute(\"SELECT * FROM users\").fetchall()\n",
    "    conn.close()\n",
    "    return users\n",
    "\n",
    "# Get and display all users\n",
    "\n"
   ]
  },
  {
   "cell_type": "code",
   "execution_count": null,
   "metadata": {},
   "outputs": [],
   "source": [
    "def update_user(user_id, name=None, age=None, email=None):\n",
    "    fields = []\n",
    "    values = []\n",
    "    if name:\n",
    "        fields.append(\"name = ?\")\n",
    "        values.append(name)\n",
    "    if age:\n",
    "        fields.append(\"age = ?\")\n",
    "        values.append(age)\n",
    "    if email:\n",
    "        fields.append(\"email = ?\")\n",
    "        values.append(email)\n",
    "    \n",
    "    if fields:\n",
    "        query = f\"UPDATE users SET {', '.join(fields)} WHERE id = ?\"\n",
    "        values.append(user_id)\n",
    "        conn = get_db_connection()\n",
    "        conn.execute(query, values)\n",
    "        conn.commit()\n",
    "        conn.close()\n",
    "\n",
    "# Example: Update Alice's age\n",
    "update_user(1, age=31)\n",
    "get_users()\n"
   ]
  },
  {
   "cell_type": "code",
   "execution_count": null,
   "metadata": {},
   "outputs": [],
   "source": [
    "def delete_user(user_id):\n",
    "    conn = get_db_connection()\n",
    "    conn.execute('DELETE FROM users WHERE id = ?', (user_id,))\n",
    "    conn.commit()\n",
    "    conn.close()\n",
    "\n",
    "# Example: Delete user with ID 1\n",
    "delete_user(1)\n",
    "get_users()\n"
   ]
  },
  {
   "cell_type": "code",
   "execution_count": null,
   "metadata": {},
   "outputs": [
    {
     "ename": "IndentationError",
     "evalue": "unexpected indent (3598491557.py, line 5)",
     "output_type": "error",
     "traceback": [
      "\u001b[1;36m  Cell \u001b[1;32mIn[19], line 5\u001b[1;36m\u001b[0m\n\u001b[1;33m    read_users()\u001b[0m\n\u001b[1;37m    ^\u001b[0m\n\u001b[1;31mIndentationError\u001b[0m\u001b[1;31m:\u001b[0m unexpected indent\n"
     ]
    }
   ],
   "source": [
    "cursor = conn.cursor()\n",
    "# create_table()\n",
    "# insert_user(\"Alice\", 30, \"alice@example.com\")\n",
    "# insert_user(\"yahya\", 28, \"yahyashanaah@gmail.com\")\n",
    "# read_users()\n",
    "# update_user(1, age=22)  # Update Alice's age\n",
    "# read_users()\n",
    "# delete_user(2)  # Delete Bob\n",
    "\n",
    "\n",
    "# Close the connection when done\n",
    "conn.close()\n"
   ]
  },
  {
   "cell_type": "code",
   "execution_count": null,
   "metadata": {},
   "outputs": [],
   "source": []
  }
 ],
 "metadata": {
  "kernelspec": {
   "display_name": "Python 3",
   "language": "python",
   "name": "python3"
  },
  "language_info": {
   "codemirror_mode": {
    "name": "ipython",
    "version": 3
   },
   "file_extension": ".py",
   "mimetype": "text/x-python",
   "name": "python",
   "nbconvert_exporter": "python",
   "pygments_lexer": "ipython3",
   "version": "3.13.0"
  }
 },
 "nbformat": 4,
 "nbformat_minor": 2
}
